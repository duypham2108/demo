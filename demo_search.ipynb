{
 "cells": [
  {
   "cell_type": "code",
   "execution_count": 175,
   "metadata": {},
   "outputs": [],
   "source": [
    "import numpy as np\n",
    "import pandas as pd\n",
    "import matplotlib.pyplot as plt\n",
    "from pyvi import ViTokenizer, ViPosTagger\n",
    "from gensim.models import TfidfModel\n",
    "from gensim.corpora import Dictionary\n",
    "from gensim import similarities \n",
    "from collections import namedtuple\n",
    "import gensim.utils\n",
    "import re\n",
    "import string\n",
    "df = pd.read_csv(\"vicare_symptom.csv\",encoding='utf-8',sep=\"\\t\")\n",
    "df[\"Symptom_parse\"] = df.Symptom.apply(lambda x: ' '.join(ViPosTagger.postagging(ViTokenizer.tokenize(x))[0]))\n",
    "data = np.array(df.Symptom_parse)\n",
    "titles=np.array(df.Disease)\n",
    "\n",
    "MedicalDocument = namedtuple('MedicalDocument', 'words tags title original_number')\n",
    "n=0\n",
    "alldocs = []  # Will hold all docs in original order\n",
    "\n",
    "regex = re.compile('[%s]' % re.escape(string.punctuation.replace(\"_\",\"\"))) #to remove punctuation\n",
    "with open(\"../../../vietnamese-stopwords-dash.txt\",encoding='utf-8') as f:\n",
    "    stopwords = f.read().splitlines()\n",
    "for line_no, line in enumerate(data):\n",
    "    if (type(line)==str):\n",
    "        if (len(line)>10):\n",
    "                line = regex.sub('', line)\n",
    "                tokens = gensim.utils.to_unicode(line).lower().split()\n",
    "                words = tokens[0:]\n",
    "                words = [word for word in words if word not in stopwords]\n",
    "                tags = [n]\n",
    "                title = titles[line_no]\n",
    "                alldocs.append(MedicalDocument(words, tags, title, line_no))\n",
    "                n=n+1\n",
    "\n",
    "\n",
    "dct = Dictionary(doc.words for doc in alldocs)  # fit dictionary\n",
    "corpus = [dct.doc2bow(line.words) for line in alldocs]  # convert dataset to BoW format\n",
    "model_tfidf = TfidfModel(corpus)  # fit model\n",
    "\n",
    "def search():\n",
    "    doc = ' '.join(ViPosTagger.postagging(ViTokenizer.tokenize(input()))[0])\n",
    "    print(\"\\n\\nQuery: \" + doc)\n",
    "    vec_bow = dct.doc2bow(doc.lower().split())\n",
    "    vec_tfidf = model_tfidf[vec_bow]\n",
    "    index = similarities.SparseMatrixSimilarity(model_tfidf[corpus], num_features=len(dct.dfs))\n",
    "    sims = index[vec_tfidf]\n",
    "    for ind, score in sorted(list(enumerate(sims)), key=lambda x: x[1],reverse=True)[:10]:\n",
    "        print(alldocs[ind].title + '(' + str(score) + ')' + \": \" + data[alldocs[ind].original_number] )"
   ]
  },
  {
   "cell_type": "code",
   "execution_count": 178,
   "metadata": {},
   "outputs": [
    {
     "name": "stdout",
     "output_type": "stream",
     "text": [
      "\n",
      "\n",
      "Query: da bị mẩn đỏ và đau khớp chân\n",
      "Bệnh Viêm cơ - dây chằng(0.7419773): Các triệu_chứng bao_gồm đau khớp , sưng khớp , mẩn đỏ hoặc sốt .\n",
      "Bệnh Nhiễm trùng khớp gối(0.6239134): Sưng khớp , đau khớp dữ_dội , sốt , nổi mẩn đỏ , không_thể di_chuyển chân bị ảnh_hưởng .\n",
      "Bệnh Nhiễm trùng khớp háng(0.6066698): Sưng khớp , đau khớp dữ_dội , sốt , nổi mẩn đỏ , không_thể di_chuyển chân bị ảnh_hưởng , nôn_mửa .\n",
      "Bệnh Giả gút(0.57113105): Sưng đau khớp , mẩn đỏ xung_quanh khớp , nóng khớp , đau khớp khi di_chuyển , triệu_chứng hay tái_phát .\n",
      "Bệnh Vết thương thủng ở da(0.5204871): Đau , chảy_máu , tê , yếu , mẩn đỏ , nóng da .\n",
      "Bệnh Vết thương thủng ở tai(0.5204871): Đau , chảy_máu , tê , yếu , mẩn đỏ , nóng da .\n",
      "Bệnh Vết thương thủng ở cánh tay(0.5204871): Đau , chảy_máu , tê , yếu , mẩn đỏ , nóng da .\n",
      "Bệnh Vết thương thủng ở ngón tay(0.5204871): Đau , chảy_máu , tê , yếu , mẩn đỏ , nóng da .\n",
      "Bệnh Vết thương thủng ở bàn tay(0.5204871): Đau , chảy_máu , tê , yếu , mẩn đỏ , nóng da .\n",
      "Bệnh Vết thương thủng ở bàn chân(0.5204871): Đau , chảy_máu , tê , yếu , mẩn đỏ , nóng da .\n"
     ]
    }
   ],
   "source": [
    "search()"
   ]
  },
  {
   "cell_type": "code",
   "execution_count": 179,
   "metadata": {},
   "outputs": [
    {
     "name": "stdout",
     "output_type": "stream",
     "text": [
      "\n",
      "\n",
      "Query: đau_đầu chóng_mặt buồn_nôn\n",
      "Bệnh Thất điều tiểu não(0.5473324): Các triệu_chứng bao_gồm đi_lại khó_khăn , vụng_về , chóng_mặt , khó nói , đau_đầu và buồn_nôn .\n",
      "Bệnh Xuất huyết tiểu não(0.51515794): Các triệu_chứng có_thể bao_gồm đau_đầu , nôn_mửa , mất phối_hợp , chóng_mặt , nhìn đôi , chóng_mặt , nói_lắp , khó nuốt .\n",
      "Bệnh do giảm áp suất(0.50769675): Các triệu_chứng có_thể bao_gồm đau khớp , chóng_mặt , tê , yếu , đau_đầu và rối_loạn .\n",
      "Bệnh Choáng não(0.47887325): Nhức đầu , buồn_nôn , nôn , chóng_mặt , lú_lẫn , yếu cơ , nhìn đôi , chóng_mặt .\n",
      "Bệnh Độ cao(0.46464676): Buồn_nôn , nôn , đau_đầu , khó thở , chóng_mặt , ngủ kém , lơ_mơ nhầm_lẫn\n",
      "Bệnh Nhức đầu(0.45366108): Đau_đầu . Đau cổ . Chóng_mặt . Buồn_nôn , ói mửa . Bất_thường về thần_kinh . Thay_đổi thị_giác\n",
      "Bệnh Glôcôm góc đóng nguyên phát cấp(0.38520956): Đau mắt , đỏ mắt , đau_đầu , buồn_nôn , nôn_mửa , mất thị_giác .\n",
      "Bệnh U não tế bào hình sao(0.351544): Nhức đầu : Thường là những cơn đau_đầu mới và tiến_triển chậm . . Các triệu_chứng khác bao_gồm buồn_nôn và ói mửa , đau_đầu tăng lên khi nằm , những điểm tê yếu trên_cơ_thể , nhầm_lẫn , các vấn_đề về tầm nhìn , vấn_đề cân_bằng , sự thay_đổi trong hành_vi , động_kinh , chóng_mặt , hoa mắt .\n",
      "Bệnh Thiểu năng động mạch đốt sống thân nền(0.332743): Mất thị_giác , nhìn đôi , chóng_mặt , tê hoặc ngứa ran , buồn_nôn và nôn , khó nuốt , có vấn_đề về thăng_bằng , kém phối_hợp , đau_đầu , đau cổ , mất thính_giác , mất khả_năng nói .\n",
      "Bệnh Chảy máu âm đạo thai kỳ(0.32099214): Chảy_máu , chóng_mặt , ngất_xỉu , đau bụng .\n"
     ]
    }
   ],
   "source": [
    "search()"
   ]
  },
  {
   "cell_type": "code",
   "execution_count": 180,
   "metadata": {},
   "outputs": [
    {
     "name": "stdout",
     "output_type": "stream",
     "text": [
      "\n",
      "\n",
      "Query: tâm_lý bất_ổn hay nghĩ tiêu_cực\n",
      "Bệnh Rối loạn trầm cảm - BỊ LẶP(0.35901138): Buồn_rầu thường_xuyên , khó ngủ , ngủ quá nhiều , không_thể tập_trung , suy_nghĩ tiêu_cực không kiểm_soát được , không có cảm_giác ngon_miệng , nóng_tính , cảm_giác bất_lực , uống rượu nhiều hơn , ý_nghĩ chán_nản , buông_xuôi , suy_nghĩ tiêu_cực , có ý_định muốn chết hoặc có hành_vi tự_sát .\n",
      "Bệnh Lạm dụng Amphetamine(0.17987202): Tâm_lý hưng_phấn , tăng sự tự_tin , tăng huyết_áp , giãn đồng_tử , đổ mồ_hôi , bồn_chồn , khó ngủ , lo_âu , khó_chịu , triệu_chứng tâm_thần , gây_hấn , bạo_lực , co_giật , sốt , hoang_tưởng , ảo_giác , lo_âu , trầm_cảm , tự_tử , kiệt_sức , suy_dinh_dưỡng .\n",
      "Bệnh Quá liều Amphetamine(0.17096694): Tâm_lý hưng_phấn , tự_tin hơn , huyết_áp_cao , học_trò giãn_nở , đổ mồ_hôi , bồn_chồn , khó ngủ , lo_âu , khó_chịu , triệu_chứng tâm_thần , gây_hấn , bạo_lực , co_giật , sốt , hoang_tưởng , ảo_giác , lo_âu , trầm_cảm , tự_tử , kiệt_sức , suy_dinh_dưỡng .\n",
      "Bệnh Sưng môi(0.0): Đau , sưng , đỏ , nóng môi . Tùy_thuộc vào nguyên_nhân , sưng môi có_thể kết_hợp với các triệu_chứng khác như phát_ban , sốt , hạch to , rách da môi , chảy_máu .\n",
      "Bệnh Áp xe cột sống(0.0): Lưng , cổ đau , yếu , tê_liệt , sốt , mẩn đỏ da .\n",
      "Bệnh Phù mạch (sưng da, môi, mắt)(0.0): Nguyên_nhân của phù_mạch có_thể là do di_truyền , do dị_ứng hay do phản_ứng phụ của thuốc điều_trị huyết_áp ACE.\n",
      "Bệnh Cổ trướng(0.0): Sưng bụng , tăng cân , đau bụng , khó thở .\n",
      "Bệnh Gai đen(0.0): Xuất_hiện những thay_đổi trên da thường ở khu_vực háng , nách và cổ : da tối , dày , nhăn thành từng nếp gấp . Đôi_khi môi , lòng bàn_tay hoặc lòng bàn_chân cũng bị ảnh_hưởng . Đôi_khi cảm_thấy ngứa ở những khu_vực bị ảnh_hưởng .\n",
      "Bệnh Xơ cứng cột bên teo cơ(0.0): Trong bệnh ALS các tế_bào thần_kinh vận_động sẽ dần_dần bị xơ_hóa , dẫn đến việc bệnh_nhân bị liệt dần_dần . Ban_đầu là các cơ ở tay , chân , rồi đến các cơ hầu họng , cơ lưỡi , cuối_cùng là liệt các cơ hô_hấp làm bệnh_nhân tử_vong . Bệnh ALS là bệnh nặng và không có thuốc điều_trị đặc_hiệu , vì_vậy triển_vọng sống của bệnh_nhân kể từ khi được chẩn_đoán chỉ khoảng 3 – 5 năm . Tuy_nhiên , cũng có khoảng 10 % bệnh_nhân ALS sống được trên 10 năm kể từ khi chẩn_đoán . Bệnh thường gặp ở người > 40 tuổi . Tỷ_lệ mắc bệnh ở nam nhiều hơn ở nữ , tỷ_lệ khoảng 60/40 .\n",
      "Bệnh Phình động mạch não(0.0): Các triệu_chứng phụ_thuộc vào mức_độ chảy_máu :\n"
     ]
    }
   ],
   "source": [
    "search()"
   ]
  },
  {
   "cell_type": "code",
   "execution_count": 181,
   "metadata": {},
   "outputs": [
    {
     "name": "stdout",
     "output_type": "stream",
     "text": [
      "\n",
      "\n",
      "Query: đau xương bả_vai và mỏi_cổ\n",
      "Bệnh Ung thư di căn xương(0.60813236): Đau xương , gãy xương tự_phát , suy_nhược .\n",
      "Bệnh Gãy xương đòn(0.57787263): Đau vai , biến_dạng xương cổ , đau vai khi cử_động , cánh_tay tê , yếu , bầm tím vùng xương cổ , đau xương cổ .\n",
      "Bệnh Lao xương(0.5531922): Thương_tổn đầu_tiên của lao thường rất nhỏ và lớn dần , tuy đã có dấu_hiệu lâm_sàng nhưng chưa thay_đổi trên X - quang trong giai_đoạn đầu ( thường thấy rõ sau hàng tháng hoặc hàng năm ) . Khác viêm xương tủy có quá_trình kích_thích tạo xương mới , lao xương chỉ phá_hủy gây tiêu xương và xương chết . Bệnh thường gặp ở bệnh_nhân 20-40 tuổi .\n",
      "Bệnh Mô bào Langerhans(0.47299597): Các triệu_chứng có_thể bao_gồm đau xương hoặc gãy xương , răng lung_lay , khó thở , ho hoặc phát_ban da . Một_số người có bị mở_rộng các tuyến trong cơ_thể hoặc gan to .\n",
      "Bệnh Gãy xương(0.45710024): Có nhiều loại gãy xương với độ nặng khác nhau . Vùng gãy xương hay gặp là ở cổ_tay , vai , cổ_chân và khớp háng … Gãy nơi khớp háng như gãy cổ xương đùi hay xảy ra ở người cao_tuổi . Thời_gian lành xương tuỳ_thuộc vào tuổi cùng với sức_khoẻ của bệnh_nhân và cũng tùy thuộc loại gãy xương . Gãy xương hở là khi phần da bên ngoài bị thủng , có_thể do đầu xương gãy đâm_ra da hoặc lực gây chấn_thương làm rách da . Nguy_cơ nhiễm_khuẩn của loại gãy hở này cao hơn bình_thường .\n",
      "Bệnh Đau tủy xương(0.42368266): Loãng_xương , dễ gãy xương . Bệnh_nhân cũng có_thể trải nghiệm đau xương , thiếu máu , dễ nhiễm_trùng , dễ bầm tím , dễ chảy_máu , mệt_mỏi , sụt cân .\n",
      "Bệnh Ung thư xương(0.4011661): Đau và sưng ở các khu_vực bị ảnh_hưởng . . Gãy xương có tổn_thương nhỏ , đôi_khi được gọi_là \" gãy xương bệnh_lý \" . . Giảm_cân không lý_do , mệt_mỏi quá mức .\n",
      "Bệnh Thiếu vitamin D(0.37493005): Các triệu_chứng liên_quan đến mức_độ nghiêm_trọng của sự thiếu_hụt , tuổi của người_bệnh và thời_gian thiếu_hụt , có_thể bao_gồm đau xương , đau cơ , co_giật cơ , gãy xương , bất_thường về răng , giảm_tốc_độ tăng_trưởng và chân cong .\n",
      "Bệnh Bạch cầu dòng tủy cấp tính (AML)(0.34519884): Các triệu_chứng có_thể bao_gồm sốt , mệt_mỏi , chóng_mặt , khó thở , da xanh_xao , đau xương , chảy_máu_cam và chảy_máu nướu răng .\n",
      "Bệnh Loãng xương ở nam giới(0.32705575): Gãy xương thường là dấu_hiệu đầu_tiên của bệnh , có_thể xảy ra mà không có sự đè ép bất_thường lên xương . Thường gặp gãy cổ xương đùi , cột_sống , cổ_tay . Khi cột_sống bị loãng_xương , chúng có_thể lún , gây đau lưng đột_ngột và dẫn đến giảm chiều cao , lâu dần những gãy lún phức_tạp có_thể gây còng và gù lưng .\n"
     ]
    }
   ],
   "source": [
    "search()"
   ]
  },
  {
   "cell_type": "code",
   "execution_count": 189,
   "metadata": {},
   "outputs": [
    {
     "name": "stdout",
     "output_type": "stream",
     "text": [
      "\n",
      "\n",
      "Query: sưng mẩn đỏ ở vùng chân\n",
      "Bệnh Viêm cơ - dây chằng(0.5240023): Các triệu_chứng bao_gồm đau khớp , sưng khớp , mẩn đỏ hoặc sốt .\n",
      "Bệnh Áp xe đầu ngón tay (Chín mé)(0.51996756): Đầu ngón tay đau , sưng , có mủ , mẩn đỏ , nóng .\n",
      "Bệnh Vết thương thủng ở miệng(0.51924723): Đau , chảy_máu , tê , yếu , mẩn đỏ , nóng da , sưng mặt .\n",
      "Bệnh Vết thương thủng ở mặt(0.51924723): Đau , chảy_máu , tê , yếu , mẩn đỏ , nóng da , sưng mặt .\n",
      "Bệnh Vết thương thủng ở môi(0.51924723): Đau , chảy_máu , tê , yếu , mẩn đỏ , nóng da , sưng mặt .\n",
      "Bệnh Vết thương thủng ở da(0.5032886): Đau , chảy_máu , tê , yếu , mẩn đỏ , nóng da .\n",
      "Bệnh Vết thương thủng ở tai(0.5032886): Đau , chảy_máu , tê , yếu , mẩn đỏ , nóng da .\n",
      "Bệnh Vết thương thủng ở cánh tay(0.5032886): Đau , chảy_máu , tê , yếu , mẩn đỏ , nóng da .\n",
      "Bệnh Vết thương thủng ở ngón tay(0.5032886): Đau , chảy_máu , tê , yếu , mẩn đỏ , nóng da .\n",
      "Bệnh Vết thương thủng ở bàn tay(0.5032886): Đau , chảy_máu , tê , yếu , mẩn đỏ , nóng da .\n"
     ]
    }
   ],
   "source": [
    "search() #Ra kết quả hơi xấu. Lặp lại ở data nhiều quá"
   ]
  },
  {
   "cell_type": "code",
   "execution_count": 190,
   "metadata": {},
   "outputs": [
    {
     "name": "stdout",
     "output_type": "stream",
     "text": [
      "\n",
      "\n",
      "Query: ngứa đầu và ra gàu\n",
      "Bệnh Nổi mẩn ngứa(0.51713353): Da đỏ . . Ngứa .\n",
      "Bệnh Gàu(0.36939096): Các triệu_chứng có_thể bao_gồm bong tróc , ngứa và đỏ da đầu .\n",
      "Bệnh Đau đầu căng thẳng(0.33747754): Cảm_giác căng hoặc siết chặt ở các cơ vùng đầu và cổ . . Đầu đầu kiểu bị nén ép hoặc ê_ẩm ở đầu , tăng nhạy_cảm đau xung_quanh đầu . . Đau thường lan_tỏa khắp đầu . . Thường khó_chịu nhất ở phần sau đầu ( vùng chẩm ) và vùng cổ . . Đau_đầu thường nặng hơn khi kèm theo stress , mệt_mỏi , tiếng ồn , chói sáng hoặc vào cuối ngày .\n",
      "Bệnh Chấy rận(0.28802133): Ngứa dữ_dội , mụn đỏ trên da\n",
      "Bệnh Bán hẹp da quy đầu(0.2807507): Các triệu_chứng bao_gồm đau , sưng bao quy đầu và đầu dương_vật .\n",
      "Bệnh Viêm loét miệng(0.27676445): Vết loét gây đau , ngứa bên trong miệng .\n",
      "Bệnh Hăm(0.2757484): Bao_gồm đau , ngứa , đỏ da , khó_chịu và đôi_khi sốt .\n",
      "Bệnh Chứng da vẽ nổi(0.26844907): Ngứa , nổi mề_đay .\n",
      "Bệnh Đau đầu căn nguyên mạch máu thần kinh(0.2631742): Nhức đầu nặng ( cảm_giác đau_nhói ) , buồn_nôn , nôn , nhạy_cảm với ánh_sáng hoặc âm_thanh , chán ăn , mệt_mỏi , tê , ngứa ran .\n",
      "Bệnh Ngứa(0.25387427): Ngứa ở một_số khu_vực da , như trên một cánh_tay hoặc chân , hoặc ngứa toàn_bộ cơ_thể . Ngứa da có_thể xảy ra mà không có bất_kỳ thay_đổi đáng chú_ý khác trên da , hoặc có_thể kết_hợp với các triệu_chứng khác như nổi mẩn đỏ , nổi u , đốm hoặc mụn nước , khô , nứt_nẻ da , có vảy da .\n"
     ]
    }
   ],
   "source": [
    "search()"
   ]
  },
  {
   "cell_type": "code",
   "execution_count": null,
   "metadata": {},
   "outputs": [],
   "source": []
  }
 ],
 "metadata": {
  "kernelspec": {
   "display_name": "Python 3",
   "language": "python",
   "name": "python3"
  },
  "language_info": {
   "codemirror_mode": {
    "name": "ipython",
    "version": 3
   },
   "file_extension": ".py",
   "mimetype": "text/x-python",
   "name": "python",
   "nbconvert_exporter": "python",
   "pygments_lexer": "ipython3",
   "version": "3.6.1"
  }
 },
 "nbformat": 4,
 "nbformat_minor": 2
}
